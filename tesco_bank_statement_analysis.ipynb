{
 "cells": [
  {
   "cell_type": "code",
   "execution_count": null,
   "metadata": {},
   "outputs": [],
   "source": [
    "!pip install pdfplumber"
   ]
  },
  {
   "cell_type": "code",
   "execution_count": null,
   "metadata": {},
   "outputs": [],
   "source": [
    "import pdfplumber\n",
    "import pandas as pd\n",
    "import re"
   ]
  },
  {
   "cell_type": "code",
   "execution_count": null,
   "metadata": {},
   "outputs": [],
   "source": [
    "def rename_descriptions(df: pd.DataFrame) -> pd.DataFrame:\n",
    "    \"\"\"rename descriptions to make it more readable.\n",
    "\n",
    "    Args\n",
    "        df (pd.DataFrame): dataframe of activity from bank statement\n",
    "    Returns\n",
    "        df (pd.DataFrame): rename bank activity descriptions\n",
    "    \"\"\"\n",
    "    rename_descriptions = {\n",
    "        \"AMAZON\": [\"AMZN\", \"AMAZON\"],\n",
    "        \"TESCO\": [\"TESCO\"],\n",
    "        \"ASDA\": [\"ASDA\"],\n",
    "        \"CO-OP\": [\"CO-OP\"],\n",
    "        \"ARGOS\": [\"ARGOS\"],\n",
    "        \"H&M\": [\"HANDM\", \"HMHENNE\"],\n",
    "        \"LIDL\": [\"LIDL\"],\n",
    "        \"COSTA\": [\"COSTA\"],\n",
    "        \"BOOHOO\": [\"BOOHOO\"],\n",
    "        \"ZARA\": [\"ZARA\"],\n",
    "        \"NEXT\": [\"NEXT\"],\n",
    "        \"NEWLOOK\": [\"NEWLOOK\"],\n",
    "        \"SAINSBURY\": ['SAINSBURY']\n",
    "    }\n",
    "\n",
    "    for shop in rename_descriptions.keys():\n",
    "        for var in rename_descriptions[shop]:\n",
    "            df.loc[df['description'].str.startswith(var), \"description\"] = shop\n",
    "\n",
    "    return df\n",
    "\n",
    "def read_bank_statement(filename: str) -> pd.DataFrame:\n",
    "    \"\"\"read bank statement from pdf.\n",
    "\n",
    "    Args\n",
    "        filename (str): filename for bank statement pdf\n",
    "    Returns\n",
    "        df (pd.DataFrame): bank transaction activity extracted from pdf\n",
    "    \"\"\"\n",
    "    pdf = pdfplumber.open(filename)\n",
    "\n",
    "    results = {\n",
    "        \"transaction_date\": [],\n",
    "        \"description\": [],\n",
    "        \"price\": []\n",
    "    }\n",
    "\n",
    "    for page in pdf.pages:\n",
    "        for text in page.extract_text_lines():\n",
    "            if re.match(\"^([0-9]{2}[A-Z]{3}\\s){2}[0-9]\", text['text']):\n",
    "                transaction_date, _, _, description, *_, price =  text['text'].split(\" \")\n",
    "            elif re.match(\"^([0-9]{2}[A-Z]{3}\\s){2}[A-Z]\", text['text']):\n",
    "                transaction_date, _, description, *_, price =  text['text'].split(\" \")\n",
    "            else:\n",
    "                continue\n",
    "            results['transaction_date'].append(transaction_date)\n",
    "            results['description'].append(description)\n",
    "            results['price'].append(price)\n",
    "\n",
    "    return pd.DataFrame(results)\n",
    "    \n",
    "df = read_bank_statement(\"tesco_july.pdf\")\n",
    "\n",
    "df = (\n",
    "    df.assign(\n",
    "        price=df.price.str.replace(\"[£,]\", \"\", regex=True),\n",
    "        description=df.description.str.upper().replace(\".COM|WWW.|.CO.UK|HTTPS://\", \"\", regex=True),\n",
    "        transaction_date=pd.to_datetime(df.transaction_date+\"2023\", format='%d%b%Y')\n",
    "    )\n",
    "    .astype(\n",
    "        {\n",
    "            \"price\": \"float64\",\n",
    "            \"description\": \"string\",\n",
    "            \"transaction_date\": \"string\"\n",
    "        }\n",
    "    )\n",
    "    .pipe(rename_descriptions)\n",
    "    .sort_values(by=\"transaction_date\")\n",
    ")\n",
    "\n",
    "incomings = df.price < 0\n",
    "outgoings = df.price > 0\n",
    "\n",
    "total_outgoings = round(sum(df[outgoings]['price']), 2)\n",
    "total_incomings = round(sum(df[incomings]['price']), 2)"
   ]
  },
  {
   "cell_type": "code",
   "execution_count": null,
   "metadata": {},
   "outputs": [],
   "source": [
    "df.head()"
   ]
  }
 ],
 "metadata": {
  "kernelspec": {
   "display_name": ".venv",
   "language": "python",
   "name": "python3"
  },
  "language_info": {
   "codemirror_mode": {
    "name": "ipython",
    "version": 3
   },
   "file_extension": ".py",
   "mimetype": "text/x-python",
   "name": "python",
   "nbconvert_exporter": "python",
   "pygments_lexer": "ipython3",
   "version": "3.9.6"
  },
  "orig_nbformat": 4
 },
 "nbformat": 4,
 "nbformat_minor": 2
}
